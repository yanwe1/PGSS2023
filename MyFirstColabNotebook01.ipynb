{
  "nbformat": 4,
  "nbformat_minor": 0,
  "metadata": {
    "colab": {
      "provenance": [],
      "collapsed_sections": [
        "4F1O559T15w0",
        "cJUOxhns18fA",
        "sO821xJdIz7s",
        "FW9_BC4S2CxF"
      ]
    },
    "kernelspec": {
      "name": "python3",
      "display_name": "Python 3"
    },
    "language_info": {
      "name": "python"
    }
  },
  "cells": [
    {
      "cell_type": "markdown",
      "source": [
        "# Mount my Google Drive"
      ],
      "metadata": {
        "id": "4F1O559T15w0"
      }
    },
{
      "cell_type": "code",
      "execution_count": 1,
      "metadata": {
        "colab": {
          "base_uri": "https://localhost:8080/"
        },
        "id": "67i04fhhvNSg",
        "outputId": "fdee9c38-c7eb-4c29-ca87-3f4965d58fbb"
      },
      "outputs": [
        {
          "output_type": "stream",
          "name": "stdout",
          "text": [
            "Mounted at /content/gdrive\n"
          ]
        }
      ],
      "source": [
        "from google.colab import drive\n",
        "drive.mount('/content/gdrive')"
      ]
    },
    {
      "cell_type": "markdown",
      "source": [
        "# Read a file from the Week01 PGSS2023 class folder"
      ],
"metadata": {
        "id": "cJUOxhns18fA"
      }
    },
    {
      "cell_type": "code",
      "source": [
        "# /content/gdrive/MyDrive/PGSS2022/PGSS2023/Week01/iris.csv\n",
        "\n",
        "import pandas as pd\n",
        "df = pd.read_csv(\"/content/gdrive/MyDrive/PGSS2022/PGSS2023/Week01/iris.csv\", header=None)\n",
        "df.columns = [\"Petal.Length\", \"Petal.Width\", \"Sepal.Length\", \"Sepal.Width\", \"Species\"]\n",
        "df"
      ],
      "metadata": {
        "colab": {
          "base_uri": "https://localhost:8080/",
          "height": 424
        },
        "id": "cHfqKcFcx-Qd",
        "outputId": "10d25d0c-9102-47b9-9cb0-abf3543c5439"
      },
      "execution_count": 4,
      "outputs": [
        {
          "output_type": "execute_result",
          "data": {
            "text/plain": [
